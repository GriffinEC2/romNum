{
 "cells": [
  {
   "cell_type": "code",
   "execution_count": 69,
   "metadata": {},
   "outputs": [
    {
     "name": "stdout",
     "output_type": "stream",
     "text": [
      "HELLOP\n",
      "6\n",
      "yes\n",
      "1\n",
      "2\n",
      "3\n",
      "4\n",
      "1\n"
     ]
    }
   ],
   "source": [
    "test = 'HELLO'\n",
    "test += 'P'\n",
    "print(test)\n",
    "print(len(test))\n",
    "if test[0] == 'H':\n",
    "    print(\"yes\")\n",
    "else:\n",
    "    print(\"no\")\n",
    "for i in range(1,5):\n",
    "    print(i)\n",
    "print(1)"
   ]
  },
  {
   "cell_type": "code",
   "execution_count": 60,
   "metadata": {},
   "outputs": [],
   "source": [
    "def findDecVal(s):\n",
    "    s2 = []\n",
    "    i = 0\n",
    "    for i in range(len(s)):\n",
    "        if s[i] == 'I':\n",
    "            s2.append(1)\n",
    "        elif s[i] == 'V':\n",
    "            s2.append(5)\n",
    "        elif s[i] == 'X':\n",
    "            s2.append(10)\n",
    "        elif s[i] == 'L':\n",
    "            s2.append(50)\n",
    "        elif s[i] == 'C':\n",
    "            s2.append(100)\n",
    "        elif s[i] == 'D':\n",
    "            s2.append(500)\n",
    "        elif s[i] == 'M':\n",
    "            s2.append(1000)\n",
    "    num = 0\n",
    "    prevNum = 0\n",
    "    val = 0\n",
    "    for i in range(len(s2) - 1, -1, -1):\n",
    "        num = s2[i]\n",
    "        if num < prevNum:\n",
    "            val -= num\n",
    "        else:\n",
    "            val += num\n",
    "        prevNum = num\n",
    "    return val"
   ]
  },
  {
   "cell_type": "code",
   "execution_count": 62,
   "metadata": {},
   "outputs": [
    {
     "name": "stdout",
     "output_type": "stream",
     "text": [
      "950\n"
     ]
    }
   ],
   "source": [
    "print(findDecVal('LM'))"
   ]
  },
  {
   "cell_type": "code",
   "execution_count": 13,
   "metadata": {},
   "outputs": [
    {
     "name": "stdout",
     "output_type": "stream",
     "text": [
      "1994\n"
     ]
    }
   ],
   "source": [
    "print(findDecVal(('M', 'C', 'M', 'X', 'C', 'I', 'V'))) "
   ]
  },
  {
   "cell_type": "code",
   "execution_count": 64,
   "metadata": {},
   "outputs": [],
   "source": [
    "def findRomNum(num):\n",
    "    romSyms = {\n",
    "        1000: 'M',\n",
    "        900: 'CM',\n",
    "        500: 'D',\n",
    "        400: 'CD',\n",
    "        100: 'C',\n",
    "        90: 'XC',\n",
    "        50: 'L',\n",
    "        40: 'XL',\n",
    "        10: 'X',\n",
    "        9: 'IX',\n",
    "        5: 'V',\n",
    "        4: 'IV',\n",
    "        1: 'I'\n",
    "    }\n",
    "    romNum = ''\n",
    "    for value, symbol in romSyms.items():\n",
    "        while num >= value:\n",
    "            romNum += symbol\n",
    "            num -= value\n",
    "    return romNum\n"
   ]
  },
  {
   "cell_type": "code",
   "execution_count": 50,
   "metadata": {},
   "outputs": [
    {
     "name": "stdout",
     "output_type": "stream",
     "text": [
      "XIV\n"
     ]
    }
   ],
   "source": [
    "print(findRomNum(14))"
   ]
  },
  {
   "cell_type": "code",
   "execution_count": 70,
   "metadata": {},
   "outputs": [],
   "source": [
    "def checking(x,y):\n",
    "    if x >= 1 and y > x:\n",
    "        for i in range(x,y+1):\n",
    "            q = findRomNum(i)\n",
    "            p = findDecVal(q)\n",
    "            if p != i:\n",
    "                print(\"Error\")\n",
    "                print(i)\n",
    "                print(q)\n",
    "                print(p)"
   ]
  },
  {
   "cell_type": "code",
   "execution_count": 72,
   "metadata": {},
   "outputs": [],
   "source": [
    "checking(1,3000)"
   ]
  },
  {
   "cell_type": "code",
   "execution_count": null,
   "metadata": {},
   "outputs": [],
   "source": []
  }
 ],
 "metadata": {
  "interpreter": {
   "hash": "916dbcbb3f70747c44a77c7bcd40155683ae19c65e1c03b4aa3499c5328201f1"
  },
  "kernelspec": {
   "display_name": "Python 3.9.5 64-bit",
   "language": "python",
   "name": "python3"
  },
  "language_info": {
   "codemirror_mode": {
    "name": "ipython",
    "version": 3
   },
   "file_extension": ".py",
   "mimetype": "text/x-python",
   "name": "python",
   "nbconvert_exporter": "python",
   "pygments_lexer": "ipython3",
   "version": "3.9.5"
  },
  "orig_nbformat": 4
 },
 "nbformat": 4,
 "nbformat_minor": 2
}
